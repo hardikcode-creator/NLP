{
  "nbformat": 4,
  "nbformat_minor": 0,
  "metadata": {
    "colab": {
      "provenance": [],
      "authorship_tag": "ABX9TyOuFMS9Gl2Z+5sGyhXqDU/y",
      "include_colab_link": true
    },
    "kernelspec": {
      "name": "python3",
      "display_name": "Python 3"
    },
    "language_info": {
      "name": "python"
    }
  },
  "cells": [
    {
      "cell_type": "markdown",
      "metadata": {
        "id": "view-in-github",
        "colab_type": "text"
      },
      "source": [
        "<a href=\"https://colab.research.google.com/github/hardikcode-creator/NLP/blob/main/NLP1.ipynb\" target=\"_parent\"><img src=\"https://colab.research.google.com/assets/colab-badge.svg\" alt=\"Open In Colab\"/></a>"
      ]
    },
    {
      "cell_type": "code",
      "execution_count": null,
      "metadata": {
        "colab": {
          "base_uri": "https://localhost:8080/"
        },
        "id": "b5kCPaOx6UR_",
        "outputId": "34b5af8d-3e7d-42a6-b833-6248d0f07306"
      },
      "outputs": [
        {
          "output_type": "stream",
          "name": "stdout",
          "text": [
            "Requirement already satisfied: nltk in /usr/local/lib/python3.10/dist-packages (3.9.1)\n",
            "Requirement already satisfied: click in /usr/local/lib/python3.10/dist-packages (from nltk) (8.1.7)\n",
            "Requirement already satisfied: joblib in /usr/local/lib/python3.10/dist-packages (from nltk) (1.4.2)\n",
            "Requirement already satisfied: regex>=2021.8.3 in /usr/local/lib/python3.10/dist-packages (from nltk) (2024.11.6)\n",
            "Requirement already satisfied: tqdm in /usr/local/lib/python3.10/dist-packages (from nltk) (4.67.1)\n"
          ]
        }
      ],
      "source": [
        "! pip install nltk\n"
      ]
    },
    {
      "cell_type": "code",
      "source": [
        "import nltk\n",
        "nltk.download('punkt')\n",
        "corpus=\"\"\"My name is code_creator! I am Hardik Agrawal,currently studying NLP and I am in my third's year. This is the first tutorial.\"\"\""
      ],
      "metadata": {
        "colab": {
          "base_uri": "https://localhost:8080/"
        },
        "id": "XpGslWeB6XNV",
        "outputId": "a165522f-0f61-46fd-a428-6516bf69808e"
      },
      "execution_count": null,
      "outputs": [
        {
          "output_type": "stream",
          "name": "stderr",
          "text": [
            "[nltk_data] Downloading package punkt to /root/nltk_data...\n",
            "[nltk_data]   Unzipping tokenizers/punkt.zip.\n"
          ]
        }
      ]
    },
    {
      "cell_type": "code",
      "source": [
        "import nltk\n",
        "nltk.download('punkt_tab')\n",
        "from nltk.tokenize import sent_tokenize\n",
        "## converts corpus to sentences\n"
      ],
      "metadata": {
        "colab": {
          "base_uri": "https://localhost:8080/"
        },
        "id": "xMNE1twz6sqL",
        "outputId": "0f4a690b-417f-4705-f073-dd71287233e9"
      },
      "execution_count": null,
      "outputs": [
        {
          "output_type": "stream",
          "name": "stderr",
          "text": [
            "[nltk_data] Downloading package punkt_tab to /root/nltk_data...\n",
            "[nltk_data]   Unzipping tokenizers/punkt_tab.zip.\n"
          ]
        }
      ]
    },
    {
      "cell_type": "code",
      "source": [
        "\n",
        "docs=sent_tokenize(corpus)"
      ],
      "metadata": {
        "id": "ih7GqZw07V9X"
      },
      "execution_count": null,
      "outputs": []
    },
    {
      "cell_type": "code",
      "source": [
        "type(docs)"
      ],
      "metadata": {
        "colab": {
          "base_uri": "https://localhost:8080/"
        },
        "id": "J0t584cJ620x",
        "outputId": "6f7a2d13-f067-407f-8348-fc6bb5b4fe61"
      },
      "execution_count": null,
      "outputs": [
        {
          "output_type": "execute_result",
          "data": {
            "text/plain": [
              "list"
            ]
          },
          "metadata": {},
          "execution_count": 22
        }
      ]
    },
    {
      "cell_type": "code",
      "source": [
        "## Paragraphs ---> words\n",
        "## Sentence ---> words\n",
        "from nltk.tokenize import word_tokenize\n",
        "word_lst=word_tokenize(corpus)\n"
      ],
      "metadata": {
        "id": "yyahpnmY7-MR"
      },
      "execution_count": null,
      "outputs": []
    },
    {
      "cell_type": "code",
      "source": [
        "\n",
        "# Tokenize each sentence --->words\n",
        "for sentence in docs:\n",
        "  print(word_tokenize(sentence))"
      ],
      "metadata": {
        "colab": {
          "base_uri": "https://localhost:8080/"
        },
        "id": "Wymkubw98NFI",
        "outputId": "e3010937-3c21-45db-d783-912d62f11aac"
      },
      "execution_count": null,
      "outputs": [
        {
          "output_type": "stream",
          "name": "stdout",
          "text": [
            "['My', 'name', 'is', 'code_creator', '!']\n",
            "['I', 'am', 'Hardik', 'Agrawal', ',', 'currently', 'studying', 'NLP', 'and', 'I', 'am', 'in', 'my', 'third', \"'s\", 'year', '.']\n",
            "['This', 'is', 'the', 'first', 'tutorial', '.']\n"
          ]
        }
      ]
    },
    {
      "cell_type": "code",
      "source": [
        "# To split punctuations (') also as seperated words\n",
        "from nltk.tokenize import wordpunct_tokenize\n",
        "wordpunct_tokenize(corpus)"
      ],
      "metadata": {
        "colab": {
          "base_uri": "https://localhost:8080/"
        },
        "id": "Us8gAxyc8bYj",
        "outputId": "97d56035-361f-4037-e1b7-37a7464f4e11"
      },
      "execution_count": null,
      "outputs": [
        {
          "output_type": "execute_result",
          "data": {
            "text/plain": [
              "['My',\n",
              " 'name',\n",
              " 'is',\n",
              " 'code_creator',\n",
              " '!',\n",
              " 'I',\n",
              " 'am',\n",
              " 'Hardik',\n",
              " 'Agrawal',\n",
              " ',',\n",
              " 'currently',\n",
              " 'studying',\n",
              " 'NLP',\n",
              " 'and',\n",
              " 'I',\n",
              " 'am',\n",
              " 'in',\n",
              " 'my',\n",
              " 'third',\n",
              " \"'\",\n",
              " 's',\n",
              " 'year',\n",
              " '.',\n",
              " 'This',\n",
              " 'is',\n",
              " 'the',\n",
              " 'first',\n",
              " 'tutorial',\n",
              " '.']"
            ]
          },
          "metadata": {},
          "execution_count": 25
        }
      ]
    },
    {
      "cell_type": "code",
      "source": [
        "# Full stop willl be treated as seperated word only for last sentence\n",
        "from nltk.tokenize import TreebankWordTokenizer\n",
        "tokenizer=TreebankWordTokenizer()\n",
        "tokenizer.tokenize(corpus)"
      ],
      "metadata": {
        "colab": {
          "base_uri": "https://localhost:8080/"
        },
        "id": "W3Ejvi5Q80_x",
        "outputId": "ba42f025-4b5d-4512-d5f3-72101bb6563e"
      },
      "execution_count": null,
      "outputs": [
        {
          "output_type": "execute_result",
          "data": {
            "text/plain": [
              "['My',\n",
              " 'name',\n",
              " 'is',\n",
              " 'code_creator',\n",
              " '!',\n",
              " 'I',\n",
              " 'am',\n",
              " 'Hardik',\n",
              " 'Agrawal',\n",
              " ',',\n",
              " 'currently',\n",
              " 'studying',\n",
              " 'NLP',\n",
              " 'and',\n",
              " 'I',\n",
              " 'am',\n",
              " 'in',\n",
              " 'my',\n",
              " 'third',\n",
              " \"'s\",\n",
              " 'year.',\n",
              " 'This',\n",
              " 'is',\n",
              " 'the',\n",
              " 'first',\n",
              " 'tutorial',\n",
              " '.']"
            ]
          },
          "metadata": {},
          "execution_count": 26
        }
      ]
    },
    {
      "cell_type": "markdown",
      "source": [
        "## Stemming---> process of converting word to its word stem [gone,goes,going]->go"
      ],
      "metadata": {
        "id": "djE48IEN9S8Z"
      }
    },
    {
      "cell_type": "code",
      "source": [
        "words=['eating','eats','eatten','writing','write','programming','programs','history','finally','finalized']\n"
      ],
      "metadata": {
        "id": "Vvowt38L-VN9"
      },
      "execution_count": null,
      "outputs": []
    },
    {
      "cell_type": "markdown",
      "source": [
        "## PorterStemmer"
      ],
      "metadata": {
        "id": "vuVGTkmE-iPK"
      }
    },
    {
      "cell_type": "code",
      "source": [
        "from nltk.stem import PorterStemmer\n",
        "ps=PorterStemmer()\n",
        "for word in words:\n",
        "  print(ps.stem(word))"
      ],
      "metadata": {
        "colab": {
          "base_uri": "https://localhost:8080/"
        },
        "id": "CotkX6KG-mbQ",
        "outputId": "a757cf07-59c4-456f-f0d0-8860588e98ac"
      },
      "execution_count": null,
      "outputs": [
        {
          "output_type": "stream",
          "name": "stdout",
          "text": [
            "eat\n",
            "eat\n",
            "eatten\n",
            "write\n",
            "write\n",
            "program\n",
            "program\n",
            "histori\n",
            "final\n",
            "final\n"
          ]
        }
      ]
    },
    {
      "cell_type": "markdown",
      "source": [
        "##### disadvantages of stemming like\n",
        "1. history--->histori\n",
        "2. congratulations--->congratul\n"
      ],
      "metadata": {
        "id": "WbG6WgD0-r-Q"
      }
    },
    {
      "cell_type": "code",
      "source": [
        "print(ps.stem('congratulations'))"
      ],
      "metadata": {
        "colab": {
          "base_uri": "https://localhost:8080/"
        },
        "id": "4TxoCSxJ_MEx",
        "outputId": "837bd679-fdfe-4546-cf0f-ec43a2e4f210"
      },
      "execution_count": null,
      "outputs": [
        {
          "output_type": "stream",
          "name": "stdout",
          "text": [
            "congratul\n"
          ]
        }
      ]
    },
    {
      "cell_type": "markdown",
      "source": [
        "# RegexpStemmer Algorithm"
      ],
      "metadata": {
        "id": "00hrppIk_Ynr"
      }
    },
    {
      "cell_type": "code",
      "source": [
        "from nltk.stem import RegexpStemmer\n",
        "reg_stemmer=RegexpStemmer('ing$|s$|e$|able$', min=4)\n",
        "reg_stemmer.stem('eating')\n"
      ],
      "metadata": {
        "colab": {
          "base_uri": "https://localhost:8080/",
          "height": 35
        },
        "id": "5YhsUhmQPp64",
        "outputId": "3be5c699-c532-4c8d-d8af-75f4036ec853"
      },
      "execution_count": null,
      "outputs": [
        {
          "output_type": "execute_result",
          "data": {
            "text/plain": [
              "'eat'"
            ],
            "application/vnd.google.colaboratory.intrinsic+json": {
              "type": "string"
            }
          },
          "metadata": {},
          "execution_count": 30
        }
      ]
    },
    {
      "cell_type": "code",
      "source": [
        "## ing$ means remove ing as suffix\n",
        "## ing means remove ing from complete string\n",
        "reg_stemmer.stem('ingeating')"
      ],
      "metadata": {
        "colab": {
          "base_uri": "https://localhost:8080/",
          "height": 35
        },
        "id": "I8U2sKnhQsTE",
        "outputId": "38a9f239-f07b-4c2d-8276-fa583cc47a0c"
      },
      "execution_count": null,
      "outputs": [
        {
          "output_type": "execute_result",
          "data": {
            "text/plain": [
              "'ingeat'"
            ],
            "application/vnd.google.colaboratory.intrinsic+json": {
              "type": "string"
            }
          },
          "metadata": {},
          "execution_count": 31
        }
      ]
    },
    {
      "cell_type": "code",
      "source": [
        "reg_stemmer=RegexpStemmer('ing|s$|e$|able$', min=2)\n",
        "reg_stemmer.stem('ingeatingakldkaing')"
      ],
      "metadata": {
        "colab": {
          "base_uri": "https://localhost:8080/",
          "height": 35
        },
        "id": "lSE_RgL9Q8b1",
        "outputId": "ed4410f7-fe02-4255-faff-6bf8f20e0969"
      },
      "execution_count": null,
      "outputs": [
        {
          "output_type": "execute_result",
          "data": {
            "text/plain": [
              "'eatakldka'"
            ],
            "application/vnd.google.colaboratory.intrinsic+json": {
              "type": "string"
            }
          },
          "metadata": {},
          "execution_count": 32
        }
      ]
    },
    {
      "cell_type": "markdown",
      "source": [
        "## SnowBall stemmer----> perform better than both stemmer Porter and Regexp"
      ],
      "metadata": {
        "id": "LHBFa1Y8Q_xX"
      }
    },
    {
      "cell_type": "code",
      "source": [
        "from nltk.stem import SnowballStemmer\n",
        "snow=SnowballStemmer('english')\n",
        "for word in words:\n",
        "  print(word +\" ---->\"+snow.stem(word))"
      ],
      "metadata": {
        "colab": {
          "base_uri": "https://localhost:8080/"
        },
        "id": "Ny5mIupMRQ37",
        "outputId": "94f5e3c1-b3b1-4a45-8b84-ea0e8511ba90"
      },
      "execution_count": null,
      "outputs": [
        {
          "output_type": "stream",
          "name": "stdout",
          "text": [
            "eating ---->eat\n",
            "eats ---->eat\n",
            "eatten ---->eatten\n",
            "writing ---->write\n",
            "write ---->write\n",
            "programming ---->program\n",
            "programs ---->program\n",
            "history ---->histori\n",
            "finally ---->final\n",
            "finalized ---->final\n"
          ]
        }
      ]
    },
    {
      "cell_type": "markdown",
      "source": [
        "This indicates that SnowBall stemmer is better than porter"
      ],
      "metadata": {
        "id": "n6nTJdauRwLS"
      }
    },
    {
      "cell_type": "code",
      "source": [
        "ps.stem('fairly'),snow.stem('fairly')"
      ],
      "metadata": {
        "colab": {
          "base_uri": "https://localhost:8080/"
        },
        "id": "ZMhypgeURft6",
        "outputId": "782294b3-31a2-4bf1-9b46-d053942559b4"
      },
      "execution_count": null,
      "outputs": [
        {
          "output_type": "execute_result",
          "data": {
            "text/plain": [
              "('fairli', 'fair')"
            ]
          },
          "metadata": {},
          "execution_count": 34
        }
      ]
    },
    {
      "cell_type": "code",
      "source": [
        "## but stemming both Porter and SnowBall still have issues\n",
        "ps.stem('goes'),snow.stem('goes')"
      ],
      "metadata": {
        "colab": {
          "base_uri": "https://localhost:8080/"
        },
        "id": "YsC1kRNJRu0w",
        "outputId": "cc5912b9-12b1-4f08-f86f-1f6a8931cb2f"
      },
      "execution_count": null,
      "outputs": [
        {
          "output_type": "execute_result",
          "data": {
            "text/plain": [
              "('goe', 'goe')"
            ]
          },
          "metadata": {},
          "execution_count": 35
        }
      ]
    },
    {
      "cell_type": "markdown",
      "source": [
        "## Lemmatizer (WordLemmatizer)"
      ],
      "metadata": {
        "id": "7QUYLDPYSQC4"
      }
    },
    {
      "cell_type": "code",
      "source": [
        "from nltk.stem import WordNetLemmatizer\n",
        "nltk.download('wordnet')\n",
        "lemmatizer=WordNetLemmatizer()\n",
        "for word in words:\n",
        "  print(word +\" ---->\"+lemmatizer.lemmatize(word))"
      ],
      "metadata": {
        "colab": {
          "base_uri": "https://localhost:8080/"
        },
        "id": "qkQSCyiuTMN9",
        "outputId": "7a2119e2-19bb-47c4-d9dd-24d48bf0e6c6"
      },
      "execution_count": null,
      "outputs": [
        {
          "output_type": "stream",
          "name": "stderr",
          "text": [
            "[nltk_data] Downloading package wordnet to /root/nltk_data...\n"
          ]
        },
        {
          "output_type": "stream",
          "name": "stdout",
          "text": [
            "eating ---->eating\n",
            "eats ---->eats\n",
            "eatten ---->eatten\n",
            "writing ---->writing\n",
            "write ---->write\n",
            "programming ---->programming\n",
            "programs ---->program\n",
            "history ---->history\n",
            "finally ---->finally\n",
            "finalized ---->finalized\n"
          ]
        }
      ]
    },
    {
      "cell_type": "code",
      "source": [
        "\"\"\"\n",
        "POS - parts of speech\n",
        "(default)-n ----->noun\n",
        "v------>verb\n",
        "a------->adjective\n",
        "r------->adverb\n",
        "\n",
        "\"\"\"\n",
        "lemmatizer.lemmatize('going',pos='v')"
      ],
      "metadata": {
        "colab": {
          "base_uri": "https://localhost:8080/",
          "height": 35
        },
        "id": "_4_iSbZbTP14",
        "outputId": "9b1555ce-0dd1-4a89-e3cd-606c60657364"
      },
      "execution_count": null,
      "outputs": [
        {
          "output_type": "execute_result",
          "data": {
            "text/plain": [
              "'go'"
            ],
            "application/vnd.google.colaboratory.intrinsic+json": {
              "type": "string"
            }
          },
          "metadata": {},
          "execution_count": 38
        }
      ]
    },
    {
      "cell_type": "code",
      "source": [
        "for word in words:\n",
        "  print(word +\" ---->\"+lemmatizer.lemmatize(word,pos='v'))"
      ],
      "metadata": {
        "colab": {
          "base_uri": "https://localhost:8080/"
        },
        "id": "4VdJ_K9yTqgp",
        "outputId": "b7c85951-2652-47b2-9317-e0c0dac975ad"
      },
      "execution_count": null,
      "outputs": [
        {
          "output_type": "stream",
          "name": "stdout",
          "text": [
            "eating ---->eat\n",
            "eats ---->eat\n",
            "eatten ---->eatten\n",
            "writing ---->write\n",
            "write ---->write\n",
            "programming ---->program\n",
            "programs ---->program\n",
            "history ---->history\n",
            "finally ---->finally\n",
            "finalized ---->finalize\n"
          ]
        }
      ]
    },
    {
      "cell_type": "markdown",
      "source": [
        "Gives better output for the words as compared to stemming"
      ],
      "metadata": {
        "id": "IVIC3m8UUdib"
      }
    },
    {
      "cell_type": "code",
      "source": [
        "lemmatizer.lemmatize('goes',pos='v'),lemmatizer.lemmatize('fairly',pos='v')"
      ],
      "metadata": {
        "colab": {
          "base_uri": "https://localhost:8080/"
        },
        "id": "9WU2bjmwUGF3",
        "outputId": "2e481338-90f2-4683-8454-793bdae8559a"
      },
      "execution_count": null,
      "outputs": [
        {
          "output_type": "execute_result",
          "data": {
            "text/plain": [
              "('go', 'fairly')"
            ]
          },
          "metadata": {},
          "execution_count": 40
        }
      ]
    },
    {
      "cell_type": "code",
      "source": [],
      "metadata": {
        "id": "3ED5aVPMUb4J"
      },
      "execution_count": null,
      "outputs": []
    }
  ]
}