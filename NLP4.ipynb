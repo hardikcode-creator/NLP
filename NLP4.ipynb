{
  "nbformat": 4,
  "nbformat_minor": 0,
  "metadata": {
    "colab": {
      "provenance": [],
      "authorship_tag": "ABX9TyMcHOynxFON8oY+o6kUdCEJ",
      "include_colab_link": true
    },
    "kernelspec": {
      "name": "python3",
      "display_name": "Python 3"
    },
    "language_info": {
      "name": "python"
    }
  },
  "cells": [
    {
      "cell_type": "markdown",
      "metadata": {
        "id": "view-in-github",
        "colab_type": "text"
      },
      "source": [
        "<a href=\"https://colab.research.google.com/github/hardikcode-creator/NLP/blob/main/NLP4.ipynb\" target=\"_parent\"><img src=\"https://colab.research.google.com/assets/colab-badge.svg\" alt=\"Open In Colab\"/></a>"
      ]
    },
    {
      "cell_type": "code",
      "execution_count": null,
      "metadata": {
        "colab": {
          "base_uri": "https://localhost:8080/"
        },
        "id": "XHJQCUdMfNvP",
        "outputId": "f367ce1f-84e0-48f4-95bd-2bd94ab6ebb6"
      },
      "outputs": [
        {
          "output_type": "stream",
          "name": "stdout",
          "text": [
            "Requirement already satisfied: gensim in /usr/local/lib/python3.10/dist-packages (4.3.3)\n",
            "Requirement already satisfied: numpy<2.0,>=1.18.5 in /usr/local/lib/python3.10/dist-packages (from gensim) (1.26.4)\n",
            "Requirement already satisfied: scipy<1.14.0,>=1.7.0 in /usr/local/lib/python3.10/dist-packages (from gensim) (1.13.1)\n",
            "Requirement already satisfied: smart-open>=1.8.1 in /usr/local/lib/python3.10/dist-packages (from gensim) (7.1.0)\n",
            "Requirement already satisfied: wrapt in /usr/local/lib/python3.10/dist-packages (from smart-open>=1.8.1->gensim) (1.17.0)\n"
          ]
        }
      ],
      "source": [
        "! pip install gensim"
      ]
    },
    {
      "cell_type": "code",
      "source": [
        "import gensim"
      ],
      "metadata": {
        "id": "kvhAuFxOfRht"
      },
      "execution_count": null,
      "outputs": []
    },
    {
      "cell_type": "code",
      "source": [
        "from gensim.models import Word2Vec,KeyedVectors\n"
      ],
      "metadata": {
        "id": "_HlxupaYfXiL"
      },
      "execution_count": null,
      "outputs": []
    },
    {
      "cell_type": "code",
      "source": [
        "# word2vec for word 'king\n",
        "\n",
        "import gensim.downloader as api\n",
        "wv=api.load('word2vec-google-news-300')\n",
        "vec_king=wv['king']"
      ],
      "metadata": {
        "id": "sGZu3j0YfcKV"
      },
      "execution_count": 6,
      "outputs": []
    },
    {
      "cell_type": "code",
      "source": [
        "vec_king.shape"
      ],
      "metadata": {
        "id": "qcYxZ8dbfs2F",
        "colab": {
          "base_uri": "https://localhost:8080/"
        },
        "outputId": "d4eb9bf8-72fc-473d-e8de-cd10a61e4246"
      },
      "execution_count": 7,
      "outputs": [
        {
          "output_type": "execute_result",
          "data": {
            "text/plain": [
              "(300,)"
            ]
          },
          "metadata": {},
          "execution_count": 7
        }
      ]
    },
    {
      "cell_type": "code",
      "source": [
        "wv.most_similar('man')"
      ],
      "metadata": {
        "id": "IYv_B8Byf2_I",
        "colab": {
          "base_uri": "https://localhost:8080/"
        },
        "outputId": "60ab77eb-dc1b-45ad-a71d-dea792c432ac"
      },
      "execution_count": 8,
      "outputs": [
        {
          "output_type": "execute_result",
          "data": {
            "text/plain": [
              "[('woman', 0.7664012908935547),\n",
              " ('boy', 0.6824871301651001),\n",
              " ('teenager', 0.6586930155754089),\n",
              " ('teenage_girl', 0.6147903203964233),\n",
              " ('girl', 0.5921714305877686),\n",
              " ('suspected_purse_snatcher', 0.571636438369751),\n",
              " ('robber', 0.5585119128227234),\n",
              " ('Robbery_suspect', 0.5584409832954407),\n",
              " ('teen_ager', 0.5549196600914001),\n",
              " ('men', 0.5489763021469116)]"
            ]
          },
          "metadata": {},
          "execution_count": 8
        }
      ]
    },
    {
      "cell_type": "code",
      "source": [
        "wv.similarity('man','king')"
      ],
      "metadata": {
        "id": "sh9bhG9kf7rQ",
        "colab": {
          "base_uri": "https://localhost:8080/"
        },
        "outputId": "5ff6cb90-491e-47f1-98dd-5a5343c9ca2d"
      },
      "execution_count": 9,
      "outputs": [
        {
          "output_type": "execute_result",
          "data": {
            "text/plain": [
              "0.22942673"
            ]
          },
          "metadata": {},
          "execution_count": 9
        }
      ]
    },
    {
      "cell_type": "code",
      "source": [
        "vec=wv['man']-wv['woman']+wv['queen']"
      ],
      "metadata": {
        "id": "lAWVwqE2gP6N"
      },
      "execution_count": 10,
      "outputs": []
    },
    {
      "cell_type": "code",
      "source": [
        "wv.most_similar([vec])"
      ],
      "metadata": {
        "id": "LAKWYGelgUIP",
        "colab": {
          "base_uri": "https://localhost:8080/"
        },
        "outputId": "62583d58-4391-4118-81ba-5f37a378946f"
      },
      "execution_count": 11,
      "outputs": [
        {
          "output_type": "execute_result",
          "data": {
            "text/plain": [
              "[('queen', 0.8393025994300842),\n",
              " ('king', 0.7046406865119934),\n",
              " ('queens', 0.6252749562263489),\n",
              " ('kings', 0.5996941924095154),\n",
              " ('monarch', 0.5614756941795349),\n",
              " ('princess', 0.5421434044837952),\n",
              " ('prince', 0.5245699286460876),\n",
              " ('royal', 0.5167840123176575),\n",
              " ('NYC_anglophiles_aflutter', 0.5163366198539734),\n",
              " ('princes', 0.5148828625679016)]"
            ]
          },
          "metadata": {},
          "execution_count": 11
        }
      ]
    },
    {
      "cell_type": "code",
      "source": [],
      "metadata": {
        "id": "vS5NR1_rgd04"
      },
      "execution_count": null,
      "outputs": []
    }
  ]
}